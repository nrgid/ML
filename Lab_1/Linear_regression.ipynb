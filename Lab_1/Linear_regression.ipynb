{
  "nbformat": 4,
  "nbformat_minor": 0,
  "metadata": {
    "colab": {
      "provenance": []
    },
    "kernelspec": {
      "name": "python3",
      "display_name": "Python 3"
    },
    "language_info": {
      "name": "python"
    }
  },
  "cells": [
    {
      "cell_type": "markdown",
      "source": [
        "# **Exercise 1: Linear Regression**\n",
        "\n",
        "The idea behind this analysis is to predict the marks of students by their efforts quantified in overall duration and academic commitment. Through this project we can answer to the following questions:\n",
        "\n",
        "*   How many hours I need to study to get 99% marks?\n",
        "*   If I will study a certain number of hours per day, what is the mark I will finally get?\n",
        "\n"
      ],
      "metadata": {
        "id": "A2xdWHrDTUHO"
      }
    },
    {
      "cell_type": "markdown",
      "source": [
        "## **Step 1: Importing and plotting the dataset**"
      ],
      "metadata": {
        "id": "lVK84BMGYFxn"
      }
    },
    {
      "cell_type": "code",
      "source": [
        "import pandas as pd\n",
        "import numpy as np\n",
        "import matplotlib.pyplot as plt\n",
        "\n",
        "#mount google drive\n",
        "from google.colab import drive\n",
        "drive.mount('/content/drive')\n",
        "\n",
        "\n"
      ],
      "metadata": {
        "colab": {
          "base_uri": "https://localhost:8080/"
        },
        "id": "qvcN8uUvYxdw",
        "outputId": "14b7b7e8-e554-4c41-d95c-3f15605de442"
      },
      "execution_count": 44,
      "outputs": [
        {
          "output_type": "stream",
          "name": "stdout",
          "text": [
            "Drive already mounted at /content/drive; to attempt to forcibly remount, call drive.mount(\"/content/drive\", force_remount=True).\n"
          ]
        }
      ]
    },
    {
      "cell_type": "code",
      "source": [
        "#import dataset\n",
        "df =pd.read_csv(\"drive/My Drive/Colab Notebooks/Lab1_dataset.csv\")\n",
        "df.head()"
      ],
      "metadata": {
        "id": "OEhxHUflqV_N",
        "colab": {
          "base_uri": "https://localhost:8080/",
          "height": 206
        },
        "outputId": "4a4131f3-1ed8-47fe-fd1e-0fb5add80a16"
      },
      "execution_count": 45,
      "outputs": [
        {
          "output_type": "execute_result",
          "data": {
            "text/plain": [
              "   number_courses  time_study   Marks\n",
              "0               3       4.508  19.202\n",
              "1               4       0.096   7.734\n",
              "2               4       3.133  13.811\n",
              "3               6       7.909  53.018\n",
              "4               8       7.811  55.299"
            ],
            "text/html": [
              "\n",
              "  <div id=\"df-78780c94-0be1-4b29-b374-ec510b344c93\">\n",
              "    <div class=\"colab-df-container\">\n",
              "      <div>\n",
              "<style scoped>\n",
              "    .dataframe tbody tr th:only-of-type {\n",
              "        vertical-align: middle;\n",
              "    }\n",
              "\n",
              "    .dataframe tbody tr th {\n",
              "        vertical-align: top;\n",
              "    }\n",
              "\n",
              "    .dataframe thead th {\n",
              "        text-align: right;\n",
              "    }\n",
              "</style>\n",
              "<table border=\"1\" class=\"dataframe\">\n",
              "  <thead>\n",
              "    <tr style=\"text-align: right;\">\n",
              "      <th></th>\n",
              "      <th>number_courses</th>\n",
              "      <th>time_study</th>\n",
              "      <th>Marks</th>\n",
              "    </tr>\n",
              "  </thead>\n",
              "  <tbody>\n",
              "    <tr>\n",
              "      <th>0</th>\n",
              "      <td>3</td>\n",
              "      <td>4.508</td>\n",
              "      <td>19.202</td>\n",
              "    </tr>\n",
              "    <tr>\n",
              "      <th>1</th>\n",
              "      <td>4</td>\n",
              "      <td>0.096</td>\n",
              "      <td>7.734</td>\n",
              "    </tr>\n",
              "    <tr>\n",
              "      <th>2</th>\n",
              "      <td>4</td>\n",
              "      <td>3.133</td>\n",
              "      <td>13.811</td>\n",
              "    </tr>\n",
              "    <tr>\n",
              "      <th>3</th>\n",
              "      <td>6</td>\n",
              "      <td>7.909</td>\n",
              "      <td>53.018</td>\n",
              "    </tr>\n",
              "    <tr>\n",
              "      <th>4</th>\n",
              "      <td>8</td>\n",
              "      <td>7.811</td>\n",
              "      <td>55.299</td>\n",
              "    </tr>\n",
              "  </tbody>\n",
              "</table>\n",
              "</div>\n",
              "      <button class=\"colab-df-convert\" onclick=\"convertToInteractive('df-78780c94-0be1-4b29-b374-ec510b344c93')\"\n",
              "              title=\"Convert this dataframe to an interactive table.\"\n",
              "              style=\"display:none;\">\n",
              "        \n",
              "  <svg xmlns=\"http://www.w3.org/2000/svg\" height=\"24px\"viewBox=\"0 0 24 24\"\n",
              "       width=\"24px\">\n",
              "    <path d=\"M0 0h24v24H0V0z\" fill=\"none\"/>\n",
              "    <path d=\"M18.56 5.44l.94 2.06.94-2.06 2.06-.94-2.06-.94-.94-2.06-.94 2.06-2.06.94zm-11 1L8.5 8.5l.94-2.06 2.06-.94-2.06-.94L8.5 2.5l-.94 2.06-2.06.94zm10 10l.94 2.06.94-2.06 2.06-.94-2.06-.94-.94-2.06-.94 2.06-2.06.94z\"/><path d=\"M17.41 7.96l-1.37-1.37c-.4-.4-.92-.59-1.43-.59-.52 0-1.04.2-1.43.59L10.3 9.45l-7.72 7.72c-.78.78-.78 2.05 0 2.83L4 21.41c.39.39.9.59 1.41.59.51 0 1.02-.2 1.41-.59l7.78-7.78 2.81-2.81c.8-.78.8-2.07 0-2.86zM5.41 20L4 18.59l7.72-7.72 1.47 1.35L5.41 20z\"/>\n",
              "  </svg>\n",
              "      </button>\n",
              "      \n",
              "  <style>\n",
              "    .colab-df-container {\n",
              "      display:flex;\n",
              "      flex-wrap:wrap;\n",
              "      gap: 12px;\n",
              "    }\n",
              "\n",
              "    .colab-df-convert {\n",
              "      background-color: #E8F0FE;\n",
              "      border: none;\n",
              "      border-radius: 50%;\n",
              "      cursor: pointer;\n",
              "      display: none;\n",
              "      fill: #1967D2;\n",
              "      height: 32px;\n",
              "      padding: 0 0 0 0;\n",
              "      width: 32px;\n",
              "    }\n",
              "\n",
              "    .colab-df-convert:hover {\n",
              "      background-color: #E2EBFA;\n",
              "      box-shadow: 0px 1px 2px rgba(60, 64, 67, 0.3), 0px 1px 3px 1px rgba(60, 64, 67, 0.15);\n",
              "      fill: #174EA6;\n",
              "    }\n",
              "\n",
              "    [theme=dark] .colab-df-convert {\n",
              "      background-color: #3B4455;\n",
              "      fill: #D2E3FC;\n",
              "    }\n",
              "\n",
              "    [theme=dark] .colab-df-convert:hover {\n",
              "      background-color: #434B5C;\n",
              "      box-shadow: 0px 1px 3px 1px rgba(0, 0, 0, 0.15);\n",
              "      filter: drop-shadow(0px 1px 2px rgba(0, 0, 0, 0.3));\n",
              "      fill: #FFFFFF;\n",
              "    }\n",
              "  </style>\n",
              "\n",
              "      <script>\n",
              "        const buttonEl =\n",
              "          document.querySelector('#df-78780c94-0be1-4b29-b374-ec510b344c93 button.colab-df-convert');\n",
              "        buttonEl.style.display =\n",
              "          google.colab.kernel.accessAllowed ? 'block' : 'none';\n",
              "\n",
              "        async function convertToInteractive(key) {\n",
              "          const element = document.querySelector('#df-78780c94-0be1-4b29-b374-ec510b344c93');\n",
              "          const dataTable =\n",
              "            await google.colab.kernel.invokeFunction('convertToInteractive',\n",
              "                                                     [key], {});\n",
              "          if (!dataTable) return;\n",
              "\n",
              "          const docLinkHtml = 'Like what you see? Visit the ' +\n",
              "            '<a target=\"_blank\" href=https://colab.research.google.com/notebooks/data_table.ipynb>data table notebook</a>'\n",
              "            + ' to learn more about interactive tables.';\n",
              "          element.innerHTML = '';\n",
              "          dataTable['output_type'] = 'display_data';\n",
              "          await google.colab.output.renderOutput(dataTable, element);\n",
              "          const docLink = document.createElement('div');\n",
              "          docLink.innerHTML = docLinkHtml;\n",
              "          element.appendChild(docLink);\n",
              "        }\n",
              "      </script>\n",
              "    </div>\n",
              "  </div>\n",
              "  "
            ]
          },
          "metadata": {},
          "execution_count": 45
        }
      ]
    },
    {
      "cell_type": "code",
      "source": [
        "# explore dataset\n",
        "df.shape\n"
      ],
      "metadata": {
        "id": "4qtoLsFnq74b",
        "colab": {
          "base_uri": "https://localhost:8080/"
        },
        "outputId": "cd68f41f-69d7-44a0-8f47-962b2033577b"
      },
      "execution_count": 46,
      "outputs": [
        {
          "output_type": "execute_result",
          "data": {
            "text/plain": [
              "(100, 3)"
            ]
          },
          "metadata": {},
          "execution_count": 46
        }
      ]
    },
    {
      "cell_type": "markdown",
      "source": [
        "The dataset has 100 rows and 3 columns.\n",
        "\n",
        "The Features are:\n",
        "\n",
        "*   number_courses: The number of courses a particular student has enrolled in.\n",
        "\n",
        "*   time_study: Number of hours a student spend in academic commitment.\n",
        "\n",
        "The outcome is:\n",
        "*   Marks: The average marks scored by the student."
      ],
      "metadata": {
        "id": "a73h6OjLsB4n"
      }
    },
    {
      "cell_type": "code",
      "source": [
        "# check null data\n",
        "df.isnull().sum()"
      ],
      "metadata": {
        "id": "KzWBPLdjrOU0",
        "colab": {
          "base_uri": "https://localhost:8080/"
        },
        "outputId": "610ab725-528b-480f-bf0e-9a801f7cbe10"
      },
      "execution_count": 47,
      "outputs": [
        {
          "output_type": "execute_result",
          "data": {
            "text/plain": [
              "number_courses    0\n",
              "time_study        0\n",
              "Marks             0\n",
              "dtype: int64"
            ]
          },
          "metadata": {},
          "execution_count": 47
        }
      ]
    },
    {
      "cell_type": "code",
      "source": [
        "df.mean()"
      ],
      "metadata": {
        "id": "4rPcSl2YvDpE",
        "colab": {
          "base_uri": "https://localhost:8080/"
        },
        "outputId": "41d6b7a7-6a68-4d1f-89f2-f86cad9ba872"
      },
      "execution_count": 48,
      "outputs": [
        {
          "output_type": "execute_result",
          "data": {
            "text/plain": [
              "number_courses     5.29000\n",
              "time_study         4.07714\n",
              "Marks             24.41769\n",
              "dtype: float64"
            ]
          },
          "metadata": {},
          "execution_count": 48
        }
      ]
    },
    {
      "cell_type": "code",
      "source": [
        "df.min()"
      ],
      "metadata": {
        "id": "LAkY8Riyvh5Y",
        "colab": {
          "base_uri": "https://localhost:8080/"
        },
        "outputId": "106aebb8-c58b-410d-df4d-7e7078510fd2"
      },
      "execution_count": 49,
      "outputs": [
        {
          "output_type": "execute_result",
          "data": {
            "text/plain": [
              "number_courses    3.000\n",
              "time_study        0.096\n",
              "Marks             5.609\n",
              "dtype: float64"
            ]
          },
          "metadata": {},
          "execution_count": 49
        }
      ]
    },
    {
      "cell_type": "code",
      "source": [
        "df.max()"
      ],
      "metadata": {
        "id": "EJBIvFCxvlRM",
        "colab": {
          "base_uri": "https://localhost:8080/"
        },
        "outputId": "7880cc4a-7a06-43d7-fb79-b73065ec779a"
      },
      "execution_count": 50,
      "outputs": [
        {
          "output_type": "execute_result",
          "data": {
            "text/plain": [
              "number_courses     8.000\n",
              "time_study         7.957\n",
              "Marks             55.299\n",
              "dtype: float64"
            ]
          },
          "metadata": {},
          "execution_count": 50
        }
      ]
    },
    {
      "cell_type": "code",
      "source": [
        "df.std()"
      ],
      "metadata": {
        "id": "06hSmi8svpHH",
        "colab": {
          "base_uri": "https://localhost:8080/"
        },
        "outputId": "04478357-d771-4abb-dfb1-87633697a595"
      },
      "execution_count": 51,
      "outputs": [
        {
          "output_type": "execute_result",
          "data": {
            "text/plain": [
              "number_courses     1.799523\n",
              "time_study         2.372914\n",
              "Marks             14.326199\n",
              "dtype: float64"
            ]
          },
          "metadata": {},
          "execution_count": 51
        }
      ]
    },
    {
      "cell_type": "markdown",
      "source": [
        "Visualization of the correlation between each feature and the outcome:"
      ],
      "metadata": {
        "id": "NKTjIGzIsn7S"
      }
    },
    {
      "cell_type": "code",
      "source": [
        "plt.scatter(x = df.number_courses , y=df.Marks)\n",
        "plt.xlabel(\"Number of courses\")\n",
        "plt.ylabel(\"Student Marks\")\n",
        "plt.show()"
      ],
      "metadata": {
        "id": "kvyXNsVxs4Co",
        "colab": {
          "base_uri": "https://localhost:8080/",
          "height": 279
        },
        "outputId": "ddd6abce-9ee2-4636-9165-3b41529854a1"
      },
      "execution_count": 52,
      "outputs": [
        {
          "output_type": "display_data",
          "data": {
            "text/plain": [
              "<Figure size 432x288 with 1 Axes>"
            ],
            "image/png": "[encoded data removed]"
          },
          "metadata": {
            "needs_background": "light"
          }
        }
      ]
    },
    {
      "cell_type": "code",
      "source": [
        "plt.scatter(x = df.time_study , y=df.Marks)\n",
        "plt.xlabel(\"Study Hours\")\n",
        "plt.ylabel(\"Student Marks\")\n",
        "plt.show()"
      ],
      "metadata": {
        "id": "i0DAki7ouAub",
        "colab": {
          "base_uri": "https://localhost:8080/",
          "height": 279
        },
        "outputId": "72a32bd4-99b7-4f54-95d2-fd016dc292f9"
      },
      "execution_count": 53,
      "outputs": [
        {
          "output_type": "display_data",
          "data": {
            "text/plain": [
              "<Figure size 432x288 with 1 Axes>"
            ],
            "image/png": "[encoded data removed]"
          },
          "metadata": {
            "needs_background": "light"
          }
        }
      ]
    },
    {
      "cell_type": "markdown",
      "source": [
        "## **Step 2: Splitting data** "
      ],
      "metadata": {
        "id": "UytKbDM-wKQo"
      }
    },
    {
      "cell_type": "code",
      "source": [
        "import math\n",
        "s_f=0.8\n",
        "n_train = math.floor(s_f * df.shape[0])\n",
        "n_test = math.ceil((1-s_f) * df.shape[0])\n",
        "print(n_train,n_test)\n",
        "\n",
        "df_train = df[:n_train]\n",
        "df_test = df[n_train:]\n",
        "df_train.head()"
      ],
      "metadata": {
        "id": "HfZj3C9M_xU3",
        "colab": {
          "base_uri": "https://localhost:8080/",
          "height": 224
        },
        "outputId": "ed5a83c1-fa74-4e82-d3bb-a52bb4782657"
      },
      "execution_count": 54,
      "outputs": [
        {
          "output_type": "stream",
          "name": "stdout",
          "text": [
            "80 20\n"
          ]
        },
        {
          "output_type": "execute_result",
          "data": {
            "text/plain": [
              "   number_courses  time_study   Marks\n",
              "0               3       4.508  19.202\n",
              "1               4       0.096   7.734\n",
              "2               4       3.133  13.811\n",
              "3               6       7.909  53.018\n",
              "4               8       7.811  55.299"
            ],
            "text/html": [
              "\n",
              "  <div id=\"df-c663d7ee-4cdc-4580-a044-6bec7dbca41c\">\n",
              "    <div class=\"colab-df-container\">\n",
              "      <div>\n",
              "<style scoped>\n",
              "    .dataframe tbody tr th:only-of-type {\n",
              "        vertical-align: middle;\n",
              "    }\n",
              "\n",
              "    .dataframe tbody tr th {\n",
              "        vertical-align: top;\n",
              "    }\n",
              "\n",
              "    .dataframe thead th {\n",
              "        text-align: right;\n",
              "    }\n",
              "</style>\n",
              "<table border=\"1\" class=\"dataframe\">\n",
              "  <thead>\n",
              "    <tr style=\"text-align: right;\">\n",
              "      <th></th>\n",
              "      <th>number_courses</th>\n",
              "      <th>time_study</th>\n",
              "      <th>Marks</th>\n",
              "    </tr>\n",
              "  </thead>\n",
              "  <tbody>\n",
              "    <tr>\n",
              "      <th>0</th>\n",
              "      <td>3</td>\n",
              "      <td>4.508</td>\n",
              "      <td>19.202</td>\n",
              "    </tr>\n",
              "    <tr>\n",
              "      <th>1</th>\n",
              "      <td>4</td>\n",
              "      <td>0.096</td>\n",
              "      <td>7.734</td>\n",
              "    </tr>\n",
              "    <tr>\n",
              "      <th>2</th>\n",
              "      <td>4</td>\n",
              "      <td>3.133</td>\n",
              "      <td>13.811</td>\n",
              "    </tr>\n",
              "    <tr>\n",
              "      <th>3</th>\n",
              "      <td>6</td>\n",
              "      <td>7.909</td>\n",
              "      <td>53.018</td>\n",
              "    </tr>\n",
              "    <tr>\n",
              "      <th>4</th>\n",
              "      <td>8</td>\n",
              "      <td>7.811</td>\n",
              "      <td>55.299</td>\n",
              "    </tr>\n",
              "  </tbody>\n",
              "</table>\n",
              "</div>\n",
              "      <button class=\"colab-df-convert\" onclick=\"convertToInteractive('df-c663d7ee-4cdc-4580-a044-6bec7dbca41c')\"\n",
              "              title=\"Convert this dataframe to an interactive table.\"\n",
              "              style=\"display:none;\">\n",
              "        \n",
              "  <svg xmlns=\"http://www.w3.org/2000/svg\" height=\"24px\"viewBox=\"0 0 24 24\"\n",
              "       width=\"24px\">\n",
              "    <path d=\"M0 0h24v24H0V0z\" fill=\"none\"/>\n",
              "    <path d=\"M18.56 5.44l.94 2.06.94-2.06 2.06-.94-2.06-.94-.94-2.06-.94 2.06-2.06.94zm-11 1L8.5 8.5l.94-2.06 2.06-.94-2.06-.94L8.5 2.5l-.94 2.06-2.06.94zm10 10l.94 2.06.94-2.06 2.06-.94-2.06-.94-.94-2.06-.94 2.06-2.06.94z\"/><path d=\"M17.41 7.96l-1.37-1.37c-.4-.4-.92-.59-1.43-.59-.52 0-1.04.2-1.43.59L10.3 9.45l-7.72 7.72c-.78.78-.78 2.05 0 2.83L4 21.41c.39.39.9.59 1.41.59.51 0 1.02-.2 1.41-.59l7.78-7.78 2.81-2.81c.8-.78.8-2.07 0-2.86zM5.41 20L4 18.59l7.72-7.72 1.47 1.35L5.41 20z\"/>\n",
              "  </svg>\n",
              "      </button>\n",
              "      \n",
              "  <style>\n",
              "    .colab-df-container {\n",
              "      display:flex;\n",
              "      flex-wrap:wrap;\n",
              "      gap: 12px;\n",
              "    }\n",
              "\n",
              "    .colab-df-convert {\n",
              "      background-color: #E8F0FE;\n",
              "      border: none;\n",
              "      border-radius: 50%;\n",
              "      cursor: pointer;\n",
              "      display: none;\n",
              "      fill: #1967D2;\n",
              "      height: 32px;\n",
              "      padding: 0 0 0 0;\n",
              "      width: 32px;\n",
              "    }\n",
              "\n",
              "    .colab-df-convert:hover {\n",
              "      background-color: #E2EBFA;\n",
              "      box-shadow: 0px 1px 2px rgba(60, 64, 67, 0.3), 0px 1px 3px 1px rgba(60, 64, 67, 0.15);\n",
              "      fill: #174EA6;\n",
              "    }\n",
              "\n",
              "    [theme=dark] .colab-df-convert {\n",
              "      background-color: #3B4455;\n",
              "      fill: #D2E3FC;\n",
              "    }\n",
              "\n",
              "    [theme=dark] .colab-df-convert:hover {\n",
              "      background-color: #434B5C;\n",
              "      box-shadow: 0px 1px 3px 1px rgba(0, 0, 0, 0.15);\n",
              "      filter: drop-shadow(0px 1px 2px rgba(0, 0, 0, 0.3));\n",
              "      fill: #FFFFFF;\n",
              "    }\n",
              "  </style>\n",
              "\n",
              "      <script>\n",
              "        const buttonEl =\n",
              "          document.querySelector('#df-c663d7ee-4cdc-4580-a044-6bec7dbca41c button.colab-df-convert');\n",
              "        buttonEl.style.display =\n",
              "          google.colab.kernel.accessAllowed ? 'block' : 'none';\n",
              "\n",
              "        async function convertToInteractive(key) {\n",
              "          const element = document.querySelector('#df-c663d7ee-4cdc-4580-a044-6bec7dbca41c');\n",
              "          const dataTable =\n",
              "            await google.colab.kernel.invokeFunction('convertToInteractive',\n",
              "                                                     [key], {});\n",
              "          if (!dataTable) return;\n",
              "\n",
              "          const docLinkHtml = 'Like what you see? Visit the ' +\n",
              "            '<a target=\"_blank\" href=https://colab.research.google.com/notebooks/data_table.ipynb>data table notebook</a>'\n",
              "            + ' to learn more about interactive tables.';\n",
              "          element.innerHTML = '';\n",
              "          dataTable['output_type'] = 'display_data';\n",
              "          await google.colab.output.renderOutput(dataTable, element);\n",
              "          const docLink = document.createElement('div');\n",
              "          docLink.innerHTML = docLinkHtml;\n",
              "          element.appendChild(docLink);\n",
              "        }\n",
              "      </script>\n",
              "    </div>\n",
              "  </div>\n",
              "  "
            ]
          },
          "metadata": {},
          "execution_count": 54
        }
      ]
    },
    {
      "cell_type": "markdown",
      "source": [
        "## **Step 3: Model Implementation: Gradient Descent**\n",
        "\n",
        "We need to fit the linear regression parameters $\\theta$ to the dataset using gradient descent.\n",
        "\n",
        "#### - ***Update Equations***\n",
        "\n",
        "The hypothesis of linear regression is:\n",
        "\n",
        "$$ h_\\theta(x) = \\theta^Tx = \\theta_0 + \\theta_1x_1$$\n",
        "\n",
        "The objective of linear regression is to minimize the cost function (Root Mean Square Error RMSE):\n",
        "\n",
        "$$ J(\\theta) = \\frac{1}{2m} \\sum_{i=1}^m (h_\\theta(x^{(i)}) - y^{(i)})^2 $$\n",
        "\n",
        "To minimize the cost of $J(\\theta)$ we will use the batch gradient descent algorithm. In batch gradient descent, each iteration performs the update\n",
        "\n",
        "$$ \\theta_j := \\theta_j - \\alpha \\frac{1}{m} \\sum_{i=1}^m (h_\\theta(x^{(i)}) - y^{(i)})x_j^{(i)} $$ \n",
        "\n",
        "(simultaneously update $\\theta_j$ for all $j$). With each step of gradient descent, your parameters $\\theta_j$ come closer to the optimal values that will achieve the lowest cost $J(\\theta)$.\n",
        "\n",
        "#### - ***Preparing data***\n",
        "\n",
        "We need to add another dimension to our data to accommodate the $\\theta_0$ intercept term. This allows us to treat $\\theta_0$ as simply another feature."
      ],
      "metadata": {
        "id": "urZDNc0Exjfa"
      }
    },
    {
      "cell_type": "code",
      "source": [
        "m = df_train.shape[0]\n",
        "X = np.hstack((np.ones((m,1)), df_train.time_study.values.reshape(-1,1)))\n",
        "y = np.array(df_train.Marks.values).reshape(-1,1)\n",
        "theta = np.zeros(shape=(X.shape[1],1))\n",
        "\n",
        "iterations = 1500\n",
        "alpha = 0.01"
      ],
      "metadata": {
        "id": "Vb1owuE0ym9l"
      },
      "execution_count": 60,
      "outputs": []
    },
    {
      "cell_type": "markdown",
      "source": [
        "***- Computing the cost $J(\\theta)$***"
      ],
      "metadata": {
        "id": "NOlbLASX0QfJ"
      }
    },
    {
      "cell_type": "code",
      "source": [
        "def compute_cost_one_variable(X, y, theta):\n",
        "    m = y.shape[0]\n",
        "    h = X.dot(theta)\n",
        "    J = (1/(2*m)) * (np.sum((h - y)**2))\n",
        "    return J"
      ],
      "metadata": {
        "id": "W8msJHMA0XvX"
      },
      "execution_count": 61,
      "outputs": []
    },
    {
      "cell_type": "code",
      "source": [
        "J = compute_cost_one_variable(X, y, theta)\n",
        "print('Theta = [0 ; 0]\\nCost computed =', J)"
      ],
      "metadata": {
        "id": "ZbXCf_3Y0f1-",
        "colab": {
          "base_uri": "https://localhost:8080/"
        },
        "outputId": "28af425a-d67e-4432-8d89-09683bc30767"
      },
      "execution_count": 62,
      "outputs": [
        {
          "output_type": "stream",
          "name": "stdout",
          "text": [
            "Theta = [0 ; 0]\n",
            "Cost computed = 394.06237603125004\n"
          ]
        }
      ]
    },
    {
      "cell_type": "code",
      "source": [
        "J = compute_cost_one_variable(X, y, [[-1],[2]])\n",
        "print('Theta = [-1 ; 2]\\nCost computed =', J)"
      ],
      "metadata": {
        "id": "p64SRYYQ7jCe",
        "colab": {
          "base_uri": "https://localhost:8080/"
        },
        "outputId": "ba25f7b8-ffaa-4eaa-f09c-35ebe3774ff8"
      },
      "execution_count": 65,
      "outputs": [
        {
          "output_type": "stream",
          "name": "stdout",
          "text": [
            "Theta = [-1 ; 2]\n",
            "Cost computed = 194.82245505625\n"
          ]
        }
      ]
    },
    {
      "cell_type": "markdown",
      "source": [
        "***- Gradient Descent implementation***\n",
        "\n",
        "Gradient descent is a generic optimization algorithm that measures the local gradient of the cost function with regards to the parameter $\\theta$ and goes in the direction of descending gradient.\n",
        "\n",
        "Algorithm:\n",
        "\n",
        "repeat until convergence:\n",
        "$$\\theta_j := \\theta_j - \\alpha \\frac{\\partial}{\\partial\\theta_j}J(\\theta_0, \\theta_1) = \\theta_j - \\alpha \\frac{1}{m} \\sum_{i=1}^m (h_\\theta(x^{(i)}) - y^{(i)})x_j^{(i)} $$ \n",
        "\n",
        "where $j=0,1$; $\\alpha$ is the learning rate (the steps to update J); $\\frac{\\partial}{\\partial\\theta_j}J(\\theta_0, \\theta_1)$ is a derivative.\n",
        "\n",
        "* Learning rate to small: slow gradient descent\n",
        "* Learning rate to large: gradient descent can overshoot the minimum, may fail to converge"
      ],
      "metadata": {
        "id": "3PLGaHqxQC40"
      }
    },
    {
      "cell_type": "code",
      "execution_count": 64,
      "metadata": {
        "id": "Pka1VyAa4I28"
      },
      "outputs": [],
      "source": [
        "def gradient_descent(X, y, theta, alpha, num_iters):\n",
        "    m = y.shape[0]\n",
        "    J_history = np.zeros(shape=(num_iters, 1))\n",
        "\n",
        "    for i in range(0, num_iters):\n",
        "        h = X.dot(theta)\n",
        "        diff_hy = h - y\n",
        "\n",
        "        delta = (1/m) * (diff_hy.T.dot(X))\n",
        "        theta = theta - (alpha * delta.T)\n",
        "        J_history[i] = compute_cost_one_variable(X, y, theta)\n",
        "\n",
        "    return theta, J_history"
      ]
    },
    {
      "cell_type": "markdown",
      "source": [
        "## **Step 4: Model Application**"
      ],
      "metadata": {
        "id": "y_toL0RWQa4-"
      }
    },
    {
      "cell_type": "code",
      "source": [
        "theta, _= gradient_descent(X, y, theta, alpha, iterations)\n",
        "print('Theta found by gradient descent:\\n', theta)"
      ],
      "metadata": {
        "id": "bSVfWsHL8E4t",
        "colab": {
          "base_uri": "https://localhost:8080/"
        },
        "outputId": "7a12f3d3-b2eb-4b2e-c2c1-e090307091b6"
      },
      "execution_count": 68,
      "outputs": [
        {
          "output_type": "stream",
          "name": "stdout",
          "text": [
            "Theta found by gradient descent:\n",
            " [[0.79734022]\n",
            " [5.72643132]]\n"
          ]
        }
      ]
    },
    {
      "cell_type": "code",
      "source": [
        "plt.scatter(x = df_train.time_study , y=df_train.Marks)\n",
        "plt.plot(X[:,1], X.dot(theta), color='r')\n",
        "plt.xlabel(\"Study Hours\")\n",
        "plt.ylabel(\"Student Marks\")\n",
        "plt.show()\n",
        "\n"
      ],
      "metadata": {
        "id": "qyCfpI9z9Kg2",
        "colab": {
          "base_uri": "https://localhost:8080/",
          "height": 279
        },
        "outputId": "7dac1893-7ab2-4cfe-e5dc-70ff33aeca3b"
      },
      "execution_count": 67,
      "outputs": [
        {
          "output_type": "display_data",
          "data": {
            "text/plain": [
              "<Figure size 432x288 with 1 Axes>"
            ],
            "image/png": "[encoded data removed]"
          },
          "metadata": {
            "needs_background": "light"
          }
        }
      ]
    },
    {
      "cell_type": "markdown",
      "source": [
        "## **Step 5: Model debugging: Visualizing $J(\\theta)$**\n",
        "\n",
        "The cost function $J(\\theta)$ is bowl-shaped and has a global mininum. This minimum is the optimal point for $\\theta_0$ and $\\theta_1$, and each step of gradient descent moves closer to this point."
      ],
      "metadata": {
        "id": "r2Ds58FnRI3T"
      }
    },
    {
      "cell_type": "code",
      "source": [
        "theta0_vals = np.linspace(-10, 10, 100)\n",
        "theta1_vals = np.linspace(-1, 8, 100)\n",
        "\n",
        "J_vals = np.zeros(shape=(len(theta0_vals), len(theta1_vals)))\n",
        "for i in range(0, len(theta0_vals)):\n",
        "    for j in range(0, len(theta1_vals)):\n",
        "        J_vals[i,j] = compute_cost_one_variable(X, y, [[theta0_vals[i]], [theta1_vals[j]]])\n"
      ],
      "metadata": {
        "id": "HfDbNknuEik5"
      },
      "execution_count": null,
      "outputs": []
    },
    {
      "cell_type": "code",
      "source": [
        "ax = plt.contour(theta0_vals, theta1_vals, np.transpose(J_vals), levels=np.logspace(-2,2,20))\n",
        "plt.plot(theta[0,0], theta[1,0], marker='x', color='r');\n",
        "plt.xlabel(r'$\\theta_0$');\n",
        "plt.ylabel(r'$\\theta_1$');\n",
        "plt.title('Contour, showing minimum');"
      ],
      "metadata": {
        "colab": {
          "base_uri": "https://localhost:8080/",
          "height": 299
        },
        "id": "Loffh7zOExBc",
        "outputId": "284e10cc-d2b6-4e08-bd03-7353fa121652"
      },
      "execution_count": 73,
      "outputs": [
        {
          "output_type": "display_data",
          "data": {
            "text/plain": [
              "<Figure size 432x288 with 1 Axes>"
            ],
            "image/png": "[encoded data removed]"
          },
          "metadata": {
            "needs_background": "light"
          }
        }
      ]
    },
    {
      "cell_type": "markdown",
      "source": [
        "## **Step 6: Model testing: application to test set**"
      ],
      "metadata": {
        "id": "Fq9QpRBDRmE6"
      }
    },
    {
      "cell_type": "code",
      "source": [
        "m_test=df_test.shape[0]\n",
        "X_test = np.hstack((np.ones((m_test,1)), df_test.time_study.values.reshape(-1,1)))\n",
        "y_test = np.array(df_test.Marks.values).reshape(-1,1)\n",
        "y_pred = X_test.dot(theta)\n",
        "\n",
        "plt.scatter(x = df_test.Marks , y=y_pred)\n",
        "plt.xlabel(\"Student Marks\")\n",
        "plt.ylabel(\"Predicted student Marks\")\n",
        "plt.show()\n"
      ],
      "metadata": {
        "id": "RIrjBSyQBfOJ",
        "colab": {
          "base_uri": "https://localhost:8080/",
          "height": 279
        },
        "outputId": "02aff06b-35dd-4c3b-f485-b3901b879ece"
      },
      "execution_count": 74,
      "outputs": [
        {
          "output_type": "display_data",
          "data": {
            "text/plain": [
              "<Figure size 432x288 with 1 Axes>"
            ],
            "image/png": "[encoded data removed]"
          },
          "metadata": {
            "needs_background": "light"
          }
        }
      ]
    },
    {
      "cell_type": "code",
      "source": [
        "# performance metrics\n",
        "d = y_test - y_pred\n",
        "mse_f = np.mean(d**2)\n",
        "mae_f = np.mean(abs(d))\n",
        "rmse_f = np.sqrt(mse_f)\n",
        "r2_f = 1-(sum(d**2)/sum((y-np.mean(y))**2))\n",
        "\n",
        "\n",
        "print(\"MAE:\",mae_f)\n",
        "print(\"MSE:\", mse_f)\n",
        "print(\"RMSE:\", rmse_f)\n",
        "print(\"R-Squared:\", r2_f)\n",
        "\n"
      ],
      "metadata": {
        "id": "hnvzPWSBDUFF",
        "colab": {
          "base_uri": "https://localhost:8080/"
        },
        "outputId": "fd85254f-8c4d-4958-ab63-d68fda3a504d"
      },
      "execution_count": 75,
      "outputs": [
        {
          "output_type": "stream",
          "name": "stdout",
          "text": [
            "MAE: 3.1411854358265874\n",
            "MSE: 15.973855872406725\n",
            "RMSE: 3.996730647968002\n",
            "R-Squared: [0.9807749]\n"
          ]
        }
      ]
    },
    {
      "cell_type": "markdown",
      "source": [
        "## **Step 7: Model generalization: multivariate regression**\n",
        "\n",
        "Now, let's consider all the variables to predict the final marks. \n",
        "We have to add some additional steps in order to address the multivariate regression task.\n",
        "\n",
        "***-Feature Normalization***"
      ],
      "metadata": {
        "id": "ui2DJd6bR6Y1"
      }
    },
    {
      "cell_type": "code",
      "source": [
        "def feature_normalize(X, mean=np.zeros(1), std=np.zeros(1)):\n",
        "    X = np.array(X)\n",
        "    if len(mean.shape) == 1 or len(std.shape) == 1:\n",
        "        mean = np.mean(X, axis=0)\n",
        "        std = np.std(X, axis=0, ddof=1)\n",
        "\n",
        "    X = (X - mean)/std\n",
        "    return X, mean, std"
      ],
      "metadata": {
        "id": "k5hPVlFoG9G3"
      },
      "execution_count": null,
      "outputs": []
    },
    {
      "cell_type": "code",
      "source": [
        "X_norm, mu, sigma = feature_normalize(df[['time_study', 'number_courses']])\n",
        "df2=df\n",
        "df2['time_study'] = X_norm[:,0]\n",
        "df2['number_courses'] = X_norm[:,1]\n",
        "df2.head()"
      ],
      "metadata": {
        "id": "3B33ZhoVG_BH",
        "colab": {
          "base_uri": "https://localhost:8080/",
          "height": 206
        },
        "outputId": "76408c27-2a10-449c-f379-798bcc884bb9"
      },
      "execution_count": 76,
      "outputs": [
        {
          "output_type": "execute_result",
          "data": {
            "text/plain": [
              "   number_courses  time_study   Marks\n",
              "0       -1.272559    0.181574  19.202\n",
              "1       -0.716857   -1.677743   7.734\n",
              "2       -0.716857   -0.397882  13.811\n",
              "3        0.394549    1.614833  53.018\n",
              "4        1.505955    1.573534  55.299"
            ],
            "text/html": [
              "\n",
              "  <div id=\"df-1ee08fd8-bb93-4be5-bb05-c4776ccc7411\">\n",
              "    <div class=\"colab-df-container\">\n",
              "      <div>\n",
              "<style scoped>\n",
              "    .dataframe tbody tr th:only-of-type {\n",
              "        vertical-align: middle;\n",
              "    }\n",
              "\n",
              "    .dataframe tbody tr th {\n",
              "        vertical-align: top;\n",
              "    }\n",
              "\n",
              "    .dataframe thead th {\n",
              "        text-align: right;\n",
              "    }\n",
              "</style>\n",
              "<table border=\"1\" class=\"dataframe\">\n",
              "  <thead>\n",
              "    <tr style=\"text-align: right;\">\n",
              "      <th></th>\n",
              "      <th>number_courses</th>\n",
              "      <th>time_study</th>\n",
              "      <th>Marks</th>\n",
              "    </tr>\n",
              "  </thead>\n",
              "  <tbody>\n",
              "    <tr>\n",
              "      <th>0</th>\n",
              "      <td>-1.272559</td>\n",
              "      <td>0.181574</td>\n",
              "      <td>19.202</td>\n",
              "    </tr>\n",
              "    <tr>\n",
              "      <th>1</th>\n",
              "      <td>-0.716857</td>\n",
              "      <td>-1.677743</td>\n",
              "      <td>7.734</td>\n",
              "    </tr>\n",
              "    <tr>\n",
              "      <th>2</th>\n",
              "      <td>-0.716857</td>\n",
              "      <td>-0.397882</td>\n",
              "      <td>13.811</td>\n",
              "    </tr>\n",
              "    <tr>\n",
              "      <th>3</th>\n",
              "      <td>0.394549</td>\n",
              "      <td>1.614833</td>\n",
              "      <td>53.018</td>\n",
              "    </tr>\n",
              "    <tr>\n",
              "      <th>4</th>\n",
              "      <td>1.505955</td>\n",
              "      <td>1.573534</td>\n",
              "      <td>55.299</td>\n",
              "    </tr>\n",
              "  </tbody>\n",
              "</table>\n",
              "</div>\n",
              "      <button class=\"colab-df-convert\" onclick=\"convertToInteractive('df-1ee08fd8-bb93-4be5-bb05-c4776ccc7411')\"\n",
              "              title=\"Convert this dataframe to an interactive table.\"\n",
              "              style=\"display:none;\">\n",
              "        \n",
              "  <svg xmlns=\"http://www.w3.org/2000/svg\" height=\"24px\"viewBox=\"0 0 24 24\"\n",
              "       width=\"24px\">\n",
              "    <path d=\"M0 0h24v24H0V0z\" fill=\"none\"/>\n",
              "    <path d=\"M18.56 5.44l.94 2.06.94-2.06 2.06-.94-2.06-.94-.94-2.06-.94 2.06-2.06.94zm-11 1L8.5 8.5l.94-2.06 2.06-.94-2.06-.94L8.5 2.5l-.94 2.06-2.06.94zm10 10l.94 2.06.94-2.06 2.06-.94-2.06-.94-.94-2.06-.94 2.06-2.06.94z\"/><path d=\"M17.41 7.96l-1.37-1.37c-.4-.4-.92-.59-1.43-.59-.52 0-1.04.2-1.43.59L10.3 9.45l-7.72 7.72c-.78.78-.78 2.05 0 2.83L4 21.41c.39.39.9.59 1.41.59.51 0 1.02-.2 1.41-.59l7.78-7.78 2.81-2.81c.8-.78.8-2.07 0-2.86zM5.41 20L4 18.59l7.72-7.72 1.47 1.35L5.41 20z\"/>\n",
              "  </svg>\n",
              "      </button>\n",
              "      \n",
              "  <style>\n",
              "    .colab-df-container {\n",
              "      display:flex;\n",
              "      flex-wrap:wrap;\n",
              "      gap: 12px;\n",
              "    }\n",
              "\n",
              "    .colab-df-convert {\n",
              "      background-color: #E8F0FE;\n",
              "      border: none;\n",
              "      border-radius: 50%;\n",
              "      cursor: pointer;\n",
              "      display: none;\n",
              "      fill: #1967D2;\n",
              "      height: 32px;\n",
              "      padding: 0 0 0 0;\n",
              "      width: 32px;\n",
              "    }\n",
              "\n",
              "    .colab-df-convert:hover {\n",
              "      background-color: #E2EBFA;\n",
              "      box-shadow: 0px 1px 2px rgba(60, 64, 67, 0.3), 0px 1px 3px 1px rgba(60, 64, 67, 0.15);\n",
              "      fill: #174EA6;\n",
              "    }\n",
              "\n",
              "    [theme=dark] .colab-df-convert {\n",
              "      background-color: #3B4455;\n",
              "      fill: #D2E3FC;\n",
              "    }\n",
              "\n",
              "    [theme=dark] .colab-df-convert:hover {\n",
              "      background-color: #434B5C;\n",
              "      box-shadow: 0px 1px 3px 1px rgba(0, 0, 0, 0.15);\n",
              "      filter: drop-shadow(0px 1px 2px rgba(0, 0, 0, 0.3));\n",
              "      fill: #FFFFFF;\n",
              "    }\n",
              "  </style>\n",
              "\n",
              "      <script>\n",
              "        const buttonEl =\n",
              "          document.querySelector('#df-1ee08fd8-bb93-4be5-bb05-c4776ccc7411 button.colab-df-convert');\n",
              "        buttonEl.style.display =\n",
              "          google.colab.kernel.accessAllowed ? 'block' : 'none';\n",
              "\n",
              "        async function convertToInteractive(key) {\n",
              "          const element = document.querySelector('#df-1ee08fd8-bb93-4be5-bb05-c4776ccc7411');\n",
              "          const dataTable =\n",
              "            await google.colab.kernel.invokeFunction('convertToInteractive',\n",
              "                                                     [key], {});\n",
              "          if (!dataTable) return;\n",
              "\n",
              "          const docLinkHtml = 'Like what you see? Visit the ' +\n",
              "            '<a target=\"_blank\" href=https://colab.research.google.com/notebooks/data_table.ipynb>data table notebook</a>'\n",
              "            + ' to learn more about interactive tables.';\n",
              "          element.innerHTML = '';\n",
              "          dataTable['output_type'] = 'display_data';\n",
              "          await google.colab.output.renderOutput(dataTable, element);\n",
              "          const docLink = document.createElement('div');\n",
              "          docLink.innerHTML = docLinkHtml;\n",
              "          element.appendChild(docLink);\n",
              "        }\n",
              "      </script>\n",
              "    </div>\n",
              "  </div>\n",
              "  "
            ]
          },
          "metadata": {},
          "execution_count": 76
        }
      ]
    },
    {
      "cell_type": "code",
      "source": [
        "import math\n",
        "s_f=0.8\n",
        "n_train = math.floor(s_f * df2.shape[0])\n",
        "n_test = math.ceil((1-s_f) * df2.shape[0])\n",
        "print(n_train,n_test)\n",
        "\n",
        "df2_train = df2[:n_train]\n",
        "df2_test = df2[n_train:]\n",
        "df2_train.head()"
      ],
      "metadata": {
        "id": "hFq_wVTaIJTu",
        "colab": {
          "base_uri": "https://localhost:8080/",
          "height": 224
        },
        "outputId": "7fe3be0d-8b5c-4c4a-e837-9f9e96a1929c"
      },
      "execution_count": 79,
      "outputs": [
        {
          "output_type": "stream",
          "name": "stdout",
          "text": [
            "80 20\n"
          ]
        },
        {
          "output_type": "execute_result",
          "data": {
            "text/plain": [
              "   number_courses  time_study   Marks\n",
              "0       -1.272559    0.181574  19.202\n",
              "1       -0.716857   -1.677743   7.734\n",
              "2       -0.716857   -0.397882  13.811\n",
              "3        0.394549    1.614833  53.018\n",
              "4        1.505955    1.573534  55.299"
            ],
            "text/html": [
              "\n",
              "  <div id=\"df-49fb36f1-5107-4886-ba69-26a503d776cf\">\n",
              "    <div class=\"colab-df-container\">\n",
              "      <div>\n",
              "<style scoped>\n",
              "    .dataframe tbody tr th:only-of-type {\n",
              "        vertical-align: middle;\n",
              "    }\n",
              "\n",
              "    .dataframe tbody tr th {\n",
              "        vertical-align: top;\n",
              "    }\n",
              "\n",
              "    .dataframe thead th {\n",
              "        text-align: right;\n",
              "    }\n",
              "</style>\n",
              "<table border=\"1\" class=\"dataframe\">\n",
              "  <thead>\n",
              "    <tr style=\"text-align: right;\">\n",
              "      <th></th>\n",
              "      <th>number_courses</th>\n",
              "      <th>time_study</th>\n",
              "      <th>Marks</th>\n",
              "    </tr>\n",
              "  </thead>\n",
              "  <tbody>\n",
              "    <tr>\n",
              "      <th>0</th>\n",
              "      <td>-1.272559</td>\n",
              "      <td>0.181574</td>\n",
              "      <td>19.202</td>\n",
              "    </tr>\n",
              "    <tr>\n",
              "      <th>1</th>\n",
              "      <td>-0.716857</td>\n",
              "      <td>-1.677743</td>\n",
              "      <td>7.734</td>\n",
              "    </tr>\n",
              "    <tr>\n",
              "      <th>2</th>\n",
              "      <td>-0.716857</td>\n",
              "      <td>-0.397882</td>\n",
              "      <td>13.811</td>\n",
              "    </tr>\n",
              "    <tr>\n",
              "      <th>3</th>\n",
              "      <td>0.394549</td>\n",
              "      <td>1.614833</td>\n",
              "      <td>53.018</td>\n",
              "    </tr>\n",
              "    <tr>\n",
              "      <th>4</th>\n",
              "      <td>1.505955</td>\n",
              "      <td>1.573534</td>\n",
              "      <td>55.299</td>\n",
              "    </tr>\n",
              "  </tbody>\n",
              "</table>\n",
              "</div>\n",
              "      <button class=\"colab-df-convert\" onclick=\"convertToInteractive('df-49fb36f1-5107-4886-ba69-26a503d776cf')\"\n",
              "              title=\"Convert this dataframe to an interactive table.\"\n",
              "              style=\"display:none;\">\n",
              "        \n",
              "  <svg xmlns=\"http://www.w3.org/2000/svg\" height=\"24px\"viewBox=\"0 0 24 24\"\n",
              "       width=\"24px\">\n",
              "    <path d=\"M0 0h24v24H0V0z\" fill=\"none\"/>\n",
              "    <path d=\"M18.56 5.44l.94 2.06.94-2.06 2.06-.94-2.06-.94-.94-2.06-.94 2.06-2.06.94zm-11 1L8.5 8.5l.94-2.06 2.06-.94-2.06-.94L8.5 2.5l-.94 2.06-2.06.94zm10 10l.94 2.06.94-2.06 2.06-.94-2.06-.94-.94-2.06-.94 2.06-2.06.94z\"/><path d=\"M17.41 7.96l-1.37-1.37c-.4-.4-.92-.59-1.43-.59-.52 0-1.04.2-1.43.59L10.3 9.45l-7.72 7.72c-.78.78-.78 2.05 0 2.83L4 21.41c.39.39.9.59 1.41.59.51 0 1.02-.2 1.41-.59l7.78-7.78 2.81-2.81c.8-.78.8-2.07 0-2.86zM5.41 20L4 18.59l7.72-7.72 1.47 1.35L5.41 20z\"/>\n",
              "  </svg>\n",
              "      </button>\n",
              "      \n",
              "  <style>\n",
              "    .colab-df-container {\n",
              "      display:flex;\n",
              "      flex-wrap:wrap;\n",
              "      gap: 12px;\n",
              "    }\n",
              "\n",
              "    .colab-df-convert {\n",
              "      background-color: #E8F0FE;\n",
              "      border: none;\n",
              "      border-radius: 50%;\n",
              "      cursor: pointer;\n",
              "      display: none;\n",
              "      fill: #1967D2;\n",
              "      height: 32px;\n",
              "      padding: 0 0 0 0;\n",
              "      width: 32px;\n",
              "    }\n",
              "\n",
              "    .colab-df-convert:hover {\n",
              "      background-color: #E2EBFA;\n",
              "      box-shadow: 0px 1px 2px rgba(60, 64, 67, 0.3), 0px 1px 3px 1px rgba(60, 64, 67, 0.15);\n",
              "      fill: #174EA6;\n",
              "    }\n",
              "\n",
              "    [theme=dark] .colab-df-convert {\n",
              "      background-color: #3B4455;\n",
              "      fill: #D2E3FC;\n",
              "    }\n",
              "\n",
              "    [theme=dark] .colab-df-convert:hover {\n",
              "      background-color: #434B5C;\n",
              "      box-shadow: 0px 1px 3px 1px rgba(0, 0, 0, 0.15);\n",
              "      filter: drop-shadow(0px 1px 2px rgba(0, 0, 0, 0.3));\n",
              "      fill: #FFFFFF;\n",
              "    }\n",
              "  </style>\n",
              "\n",
              "      <script>\n",
              "        const buttonEl =\n",
              "          document.querySelector('#df-49fb36f1-5107-4886-ba69-26a503d776cf button.colab-df-convert');\n",
              "        buttonEl.style.display =\n",
              "          google.colab.kernel.accessAllowed ? 'block' : 'none';\n",
              "\n",
              "        async function convertToInteractive(key) {\n",
              "          const element = document.querySelector('#df-49fb36f1-5107-4886-ba69-26a503d776cf');\n",
              "          const dataTable =\n",
              "            await google.colab.kernel.invokeFunction('convertToInteractive',\n",
              "                                                     [key], {});\n",
              "          if (!dataTable) return;\n",
              "\n",
              "          const docLinkHtml = 'Like what you see? Visit the ' +\n",
              "            '<a target=\"_blank\" href=https://colab.research.google.com/notebooks/data_table.ipynb>data table notebook</a>'\n",
              "            + ' to learn more about interactive tables.';\n",
              "          element.innerHTML = '';\n",
              "          dataTable['output_type'] = 'display_data';\n",
              "          await google.colab.output.renderOutput(dataTable, element);\n",
              "          const docLink = document.createElement('div');\n",
              "          docLink.innerHTML = docLinkHtml;\n",
              "          element.appendChild(docLink);\n",
              "        }\n",
              "      </script>\n",
              "    </div>\n",
              "  </div>\n",
              "  "
            ]
          },
          "metadata": {},
          "execution_count": 79
        }
      ]
    },
    {
      "cell_type": "markdown",
      "source": [
        "***- Gradient Descent***\n",
        "\n",
        "The only difference from univariate regression problem is that now there is one more feature in the matrix X. The hypothesis function and the batch gradient descent update rule remain unchanged.\n",
        "\n",
        "Note: In the multivariate case, the cost function can also be written in the following vectorized form:\n",
        "\n",
        "$$J(\\theta) = \\frac{1}{2m}(X\\theta-y)^T(X\\theta-y)$$"
      ],
      "metadata": {
        "id": "wkmD1bb3TEhC"
      }
    },
    {
      "cell_type": "code",
      "source": [
        "def compute_cost(X, y, theta):\n",
        "    m = y.shape[0]\n",
        "    h = X.dot(theta)\n",
        "    J = (1/(2*m)) * ((h-y).T.dot(h-y))\n",
        "    return J"
      ],
      "metadata": {
        "id": "ljRMN5SnJpVM"
      },
      "execution_count": 80,
      "outputs": []
    },
    {
      "cell_type": "code",
      "source": [
        "def gradient_descent(X, y, theta, alpha, num_iters):\n",
        "    m = y.shape[0]\n",
        "    J_history = np.zeros(shape=(num_iters, 1))\n",
        "\n",
        "    for i in range(0, num_iters):\n",
        "        h = X.dot(theta)\n",
        "        diff_hy = h - y\n",
        "\n",
        "        delta = (1/m) * (diff_hy.T.dot(X))\n",
        "        theta = theta - (alpha * delta.T)\n",
        "        J_history[i] = compute_cost(X, y, theta)\n",
        "\n",
        "    return theta, J_history"
      ],
      "metadata": {
        "id": "8j0xOTX8Kdmx"
      },
      "execution_count": 81,
      "outputs": []
    },
    {
      "cell_type": "code",
      "source": [
        "m = df2_train.shape[0]\n",
        "X = np.hstack((np.ones((m,1)), df2_train.time_study.values.reshape(-1,1),df2_train.number_courses.values.reshape(-1,1)))\n",
        "y = np.array(df2_train.Marks.values).reshape(-1,1)\n",
        "theta = np.zeros(shape=(X.shape[1],1))\n",
        "\n",
        "iterations = 1500\n",
        "alpha = 0.01"
      ],
      "metadata": {
        "id": "e4_mDmx1K4jk"
      },
      "execution_count": 82,
      "outputs": []
    },
    {
      "cell_type": "code",
      "source": [
        "theta, _= gradient_descent(X, y, theta, alpha, iterations)\n",
        "print('Theta found by gradient descent:\\n', theta)"
      ],
      "metadata": {
        "id": "4_-puZE9Lx0P",
        "colab": {
          "base_uri": "https://localhost:8080/"
        },
        "outputId": "487d1953-97a4-4a10-ce18-ca2b6ef41862"
      },
      "execution_count": 83,
      "outputs": [
        {
          "output_type": "stream",
          "name": "stdout",
          "text": [
            "Theta found by gradient descent:\n",
            " [[24.51543724]\n",
            " [12.65731852]\n",
            " [ 3.79504224]]\n"
          ]
        }
      ]
    },
    {
      "cell_type": "code",
      "source": [
        "m_test=df2_test.shape[0]\n",
        "X_test = np.hstack((np.ones((m_test,1)), df2_test.time_study.values.reshape(-1,1),df2_test.number_courses.values.reshape(-1,1)))\n",
        "y_test = np.array(df2_test.Marks.values).reshape(-1,1)\n",
        "y_pred = X_test.dot(theta)\n",
        "\n",
        "plt.scatter(x = df2_test.Marks , y=y_pred)\n",
        "plt.xlabel(\"Student Marks\")\n",
        "plt.ylabel(\"Predicted student Marks\")\n",
        "plt.show()\n"
      ],
      "metadata": {
        "id": "iBmlEKo7L_ws",
        "colab": {
          "base_uri": "https://localhost:8080/",
          "height": 279
        },
        "outputId": "ffdca99b-de6e-4ac3-9fd4-dd8f5199db04"
      },
      "execution_count": 84,
      "outputs": [
        {
          "output_type": "display_data",
          "data": {
            "text/plain": [
              "<Figure size 432x288 with 1 Axes>"
            ],
            "image/png": "[encoded data removed]"
          },
          "metadata": {
            "needs_background": "light"
          }
        }
      ]
    },
    {
      "cell_type": "code",
      "source": [
        "d = y_test - y_pred\n",
        "mse_f = np.mean(d**2)\n",
        "mae_f = np.mean(abs(d))\n",
        "rmse_f = np.sqrt(mse_f)\n",
        "r2_f = 1-(sum(d**2)/sum((y-np.mean(y))**2))\n",
        "\n",
        "\n",
        "print(\"MAE:\",mae_f)\n",
        "print(\"MSE:\", mse_f)\n",
        "print(\"RMSE:\", rmse_f)\n",
        "print(\"R-Squared:\", r2_f)"
      ],
      "metadata": {
        "id": "lYYjzYg8MgbU",
        "colab": {
          "base_uri": "https://localhost:8080/"
        },
        "outputId": "de2b909e-c45f-4ec7-e290-500c2e6460b2"
      },
      "execution_count": 85,
      "outputs": [
        {
          "output_type": "stream",
          "name": "stdout",
          "text": [
            "MAE: 3.140894013672116\n",
            "MSE: 12.674585786741597\n",
            "RMSE: 3.5601384505018334\n",
            "R-Squared: [0.98474569]\n"
          ]
        }
      ]
    },
    {
      "cell_type": "markdown",
      "source": [
        "# **Step 8: tuning parameters**\n",
        "\n",
        "* Make a plot with number of iterations on the x-axis. Now plot the cost function, $J(\\theta)$ over the number of iterations of gradient descent. If $J(\\theta)$  ever increases, then you probably need to decrease $\\alpha$.\n"
      ],
      "metadata": {
        "id": "q68QuA7X0HAg"
      }
    },
    {
      "cell_type": "code",
      "source": [
        "m = df2_train.shape[0]\n",
        "X = np.hstack((np.ones((m,1)), df2_train.time_study.values.reshape(-1,1),df2_train.number_courses.values.reshape(-1,1)))\n",
        "y = np.array(df2_train.Marks.values).reshape(-1,1)\n",
        "theta = np.zeros(shape=(X.shape[1],1))"
      ],
      "metadata": {
        "id": "crcE5MhD0dQQ"
      },
      "execution_count": 86,
      "outputs": []
    },
    {
      "cell_type": "code",
      "source": [
        "alpha = [0.4, 0.1, 0.05, 0.01]\n",
        "colors = ['b','r','g','c']\n",
        "num_iters = 50"
      ],
      "metadata": {
        "id": "p2794oRA0ejk"
      },
      "execution_count": 87,
      "outputs": []
    },
    {
      "cell_type": "code",
      "source": [
        "for i in range(0, len(alpha)):\n",
        "    theta = np.zeros(shape=(X.shape[1],1))\n",
        "    theta, J_history = gradient_descent(X, y, theta, alpha[i], num_iters)\n",
        "    plt.plot(range(len(J_history)), J_history, colors[i], label='Alpha {}'.format(alpha[i]))\n",
        "plt.xlabel('Number of iterations');\n",
        "plt.ylabel('Cost J');\n",
        "plt.legend()\n",
        "plt.show()"
      ],
      "metadata": {
        "id": "b5r5DEWT0qRg",
        "colab": {
          "base_uri": "https://localhost:8080/",
          "height": 281
        },
        "outputId": "7e5e10cb-0695-44fb-aafc-464c399d06f3"
      },
      "execution_count": 88,
      "outputs": [
        {
          "output_type": "display_data",
          "data": {
            "text/plain": [
              "<Figure size 432x288 with 1 Axes>"
            ],
            "image/png": "[encoded data removed]"
          },
          "metadata": {
            "needs_background": "light"
          }
        }
      ]
    },
    {
      "cell_type": "markdown",
      "source": [
        "# **Step 9: Try your model on real data!**\n"
      ],
      "metadata": {
        "id": "JCB8FsR_GJK8"
      }
    },
    {
      "cell_type": "code",
      "source": [
        "iterations = 100\n",
        "alpha = 0.1\n",
        "theta, _ = gradient_descent(X, y, theta, alpha, iterations)\n",
        "print(theta)"
      ],
      "metadata": {
        "id": "InPJNbjkGozz",
        "colab": {
          "base_uri": "https://localhost:8080/"
        },
        "outputId": "482e00fa-b4e2-41a8-8366-14ebf6886837"
      },
      "execution_count": 89,
      "outputs": [
        {
          "output_type": "stream",
          "name": "stdout",
          "text": [
            "[[24.5149224 ]\n",
            " [12.65739119]\n",
            " [ 3.79472714]]\n"
          ]
        }
      ]
    },
    {
      "cell_type": "code",
      "source": [
        "my_time = (7.5 - mu[0])/sigma[0]\n",
        "my_courses = (4 - mu[1])/sigma[1]\n",
        "y_pred = theta[0] + theta[1]*my_time + theta[2]*my_courses\n",
        "f'You will get a final mark: {y_pred[0]}$'"
      ],
      "metadata": {
        "id": "C7m4TSlOHS4f",
        "colab": {
          "base_uri": "https://localhost:8080/",
          "height": 36
        },
        "outputId": "96a42052-effe-494e-e60b-d5a5cfcc4de4"
      },
      "execution_count": 90,
      "outputs": [
        {
          "output_type": "execute_result",
          "data": {
            "text/plain": [
              "'You will get a final mark: 40.052567580974326$'"
            ],
            "application/vnd.google.colaboratory.intrinsic+json": {
              "type": "string"
            }
          },
          "metadata": {},
          "execution_count": 90
        }
      ]
    }
  ]
}